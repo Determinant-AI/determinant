{
 "cells": [
  {
   "cell_type": "code",
   "execution_count": null,
   "metadata": {
    "id": "r-0--3I-O1mA"
   },
   "outputs": [],
   "source": [
    "!pip install transformers\n",
    "!pip install faiss-cpu"
   ]
  },
  {
   "cell_type": "markdown",
   "metadata": {
    "id": "azb-Id5oP7_0"
   },
   "source": [
    "## Download Confluence Data"
   ]
  },
  {
   "cell_type": "code",
   "execution_count": null,
   "metadata": {
    "id": "jsnW6c4MP_WC"
   },
   "outputs": [],
   "source": [
    "!pip install atlassian-python-api\n",
    "\n",
    "from atlassian import Confluence\n",
    "import os\n",
    "\n",
    "# Set up Confluence API connection\n",
    "confluence = Confluence(\n",
    "url='https://advendio.atlassian.net',\n",
    ")\n",
    "confluence\n",
    "space_key = \"SO\"\n",
    "pages = confluence.get_all_pages_from_space(space_key)\n",
    "pages\n",
    "# Create a directory to store the downloaded pages\n",
    "if not os.path.exists('advendio_pages'):\n",
    "    os.makedirs('advendio_pages')\n",
    "# Download each page\n",
    "for page in pages:\n",
    "    page_id = page['id']\n",
    "    page_title = page['title']\n",
    "    page_filename = page_title.replace(' ', '_') + '.html'\n",
    "    page_content = confluence.get_page_by_id(page_id, expand='body.storage')['body']['storage']['value']\n",
    "    try:\n",
    "        with open('advendio_pages/' + page_filename, 'w') as f:\n",
    "            f.write(page_content)\n",
    "    except:\n",
    "        pass\n",
    "    print('Downloaded:', page_filename)\n"
   ]
  },
  {
   "cell_type": "code",
   "execution_count": null,
   "metadata": {
    "id": "udTC63zjP_uC"
   },
   "outputs": [],
   "source": [
    "from bs4 import BeautifulSoup\n",
    "import os\n",
    "import faiss\n",
    "\n",
    "documents = []\n",
    "for filename in os.listdir('advendio_pages'):\n",
    "  f = os.path.join('advendio_pages', filename)\n",
    "  with open(f, 'r', encoding='utf-8') as file:\n",
    "    html_content = file.read()\n",
    "    soup = BeautifulSoup(html_content, \"lxml\")\n",
    "\n",
    "    text_content = soup.get_text(separator=\" \", strip=True)\n",
    "    documents.append(text_content)\n",
    "  "
   ]
  },
  {
   "cell_type": "code",
   "execution_count": null,
   "metadata": {
    "id": "9YqIRYsuSWca"
   },
   "outputs": [],
   "source": [
    "len(documents)"
   ]
  },
  {
   "cell_type": "markdown",
   "metadata": {
    "id": "M21sIkDIedGN"
   },
   "source": [
    "## Use DPR Question and Context Encoders \n"
   ]
  },
  {
   "cell_type": "code",
   "execution_count": null,
   "metadata": {
    "id": "6prmgAS1O86O"
   },
   "outputs": [],
   "source": [
    "from transformers import DPRContextEncoder, DPRContextEncoderTokenizer\n",
    "from transformers import DPRQuestionEncoder, DPRQuestionEncoderTokenizer\n",
    "import torch\n",
    "\n",
    "\n",
    "# Load DPR question and context encoders\n",
    "question_encoder = DPRQuestionEncoder.from_pretrained(\"facebook/dpr-question_encoder-single-nq-base\")\n",
    "question_tokenizer = DPRQuestionEncoderTokenizer.from_pretrained(\"facebook/dpr-question_encoder-single-nq-base\")\n",
    "context_encoder = DPRContextEncoder.from_pretrained(\"facebook/dpr-ctx_encoder-single-nq-base\")\n",
    "context_tokenizer = DPRContextEncoderTokenizer.from_pretrained(\"facebook/dpr-ctx_encoder-single-nq-base\")\n",
    "\n",
    "# Encode the documents\n",
    "encoded_documents = context_tokenizer(documents, return_tensors=\"pt\", padding=True, truncation=True, max_length=512)\n",
    "document_embeddings = context_encoder(**encoded_documents).pooler_output\n",
    "\n",
    "\n",
    "\n"
   ]
  },
  {
   "cell_type": "markdown",
   "metadata": {
    "id": "tuLUCdN_ejKH"
   },
   "source": [
    "## Create FAISS Index"
   ]
  },
  {
   "cell_type": "code",
   "execution_count": null,
   "metadata": {
    "id": "0f4-c1REazqv"
   },
   "outputs": [],
   "source": [
    "import numpy as np\n",
    "\n",
    "document_embeddings = document_embeddings.detach().numpy()\n",
    "document_embeddings=np.ascontiguousarray(document_embeddings)\n",
    "\n",
    "\n",
    "# Create Faiss Index\n",
    "vector_dimension = document_embeddings.shape[1]\n",
    "print(vector_dimension)\n",
    "index = faiss.IndexFlatL2(vector_dimension)\n",
    "faiss.normalize_L2(document_embeddings)\n",
    "index.add(document_embeddings)\n",
    "print(index.ntotal)\n"
   ]
  },
  {
   "cell_type": "markdown",
   "metadata": {
    "id": "UDmUtgyHepTi"
   },
   "source": [
    "## Document Retrieval"
   ]
  },
  {
   "cell_type": "code",
   "execution_count": null,
   "metadata": {
    "id": "TlzdHBLWTInq"
   },
   "outputs": [],
   "source": [
    "\n",
    "\n",
    "question = input(\"Enter your prompt: \")\n",
    "\n",
    "# # Encode the query\n",
    "encoded_query = question_tokenizer(query, return_tensors=\"pt\")\n",
    "query_embedding = question_encoder(**encoded_query).pooler_output.detach().numpy()\n",
    "query_embedding=np.ascontiguousarray(query_embedding)\n",
    "\n",
    "D, I = index.search(query_embedding, 4)\n",
    "print(I)\n",
    "\n",
    "\n",
    "# Enter your prompt: What does account record have?\n",
    "# [[11 26  3  8]]\n"
   ]
  },
  {
   "cell_type": "code",
   "execution_count": null,
   "metadata": {
    "id": "XgmzakpLUgab"
   },
   "outputs": [],
   "source": [
    "documents[11]\n",
    "\n",
    "# Accounts are companies, organizations or customers of which you want to keep track. In an account record, you store data about the particular account. Since the account record contains related objects, such as Contacts and Media Campaigns. Accounts hold all the information about your business connections. Start ScreenSteps Content Account Records In an account record, you store information on the particular account such as phone numbers, addresses, and <![CDATA[revenue information]]> . The latter is automatically updated in accordance with the amounts generated by the account's media campaigns. Related Objects You can assign other objects to an account, e.g. contacts. These contacts will then be listed under the account in the <![CDATA[related list]]> Contacts. The same applies to media campaigns. Account records may also include information and excluded placements, visit reports, etc. End ScreenSteps Content"
   ]
  },
  {
   "cell_type": "markdown",
   "metadata": {
    "id": "fh3njKlmeufq"
   },
   "source": [
    "## Generate Response"
   ]
  },
  {
   "cell_type": "code",
   "execution_count": null,
   "metadata": {
    "id": "sYHKMJ8ad1sl"
   },
   "outputs": [],
   "source": [
    "from transformers import AutoTokenizer, AutoModelForSeq2SeqLM\n",
    "qa_tokenizer = AutoTokenizer.from_pretrained(\n",
    "            \"microsoft/GODEL-v1_1-large-seq2seq\"\n",
    "        )\n",
    "qa_model = AutoModelForSeq2SeqLM.from_pretrained(\n",
    "            \"microsoft/GODEL-v1_1-large-seq2seq\"\n",
    "        )\n",
    "knowledge = documents[I[0][0]]\n",
    "knowledge = \"[KNOWLEDGE] \" + knowledge\n",
    "dialog = [question]\n",
    "dialog = \" EOS \".join(dialog)\n",
    "instruction = (\n",
    "            f\"Instruction: given a dialog context, you need to response empathically.\"\n",
    "        )\n",
    "query = f\"{instruction} [CONTEXT] {dialog} {knowledge}\"\n",
    "print(query)\n",
    "input_ids = qa_tokenizer(f\"{query}\", return_tensors=\"pt\").input_ids\n",
    "output = qa_model.generate(\n",
    "            input_ids, max_length=128, min_length=8, top_p=0.9, do_sample=True\n",
    "        )\n",
    "output = qa_tokenizer.decode(output[0], skip_special_tokens=True)\n",
    "\n",
    "print('Response: {}'.format(output))\n",
    "\n",
    "# Instruction: given a dialog context, you need to response empathically. [CONTEXT] What does account record have? [KNOWLEDGE] Accounts are companies, organizations or customers of which you want to keep track. In an account record, you store data about the particular account. Since the account record contains related objects, such as Contacts and Media Campaigns. Accounts hold all the information about your business connections. Start ScreenSteps Content Account Records In an account record, you store information on the particular account such as phone numbers, addresses, and <![CDATA[revenue information]]> . The latter is automatically updated in accordance with the amounts generated by the account's media campaigns. Related Objects You can assign other objects to an account, e.g. contacts. These contacts will then be listed under the account in the <![CDATA[related list]]> Contacts. The same applies to media campaigns. Account records may also include information and excluded placements, visit reports, etc. End ScreenSteps Content\n",
    "# Response: Account records are companies, organizations or customers which you want to keep track. In an account record, you store data about the particular account.\n",
    "\n",
    "    "
   ]
  },
  {
   "cell_type": "code",
   "execution_count": null,
   "metadata": {
    "id": "Vn1iAKt9eT0d"
   },
   "outputs": [],
   "source": []
  }
 ],
 "metadata": {
  "accelerator": "GPU",
  "colab": {
   "machine_shape": "hm",
   "private_outputs": true,
   "provenance": []
  },
  "gpuClass": "premium",
  "kernelspec": {
   "display_name": "Python 3 (ipykernel)",
   "language": "python",
   "name": "python3"
  },
  "language_info": {
   "codemirror_mode": {
    "name": "ipython",
    "version": 3
   },
   "file_extension": ".py",
   "mimetype": "text/x-python",
   "name": "python",
   "nbconvert_exporter": "python",
   "pygments_lexer": "ipython3",
   "version": "3.9.16"
  }
 },
 "nbformat": 4,
 "nbformat_minor": 1
}
