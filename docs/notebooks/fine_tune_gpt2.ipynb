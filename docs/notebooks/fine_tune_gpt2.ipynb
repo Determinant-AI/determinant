{
  "cells": [
    {
      "cell_type": "code",
      "execution_count": null,
      "metadata": {
        "id": "w1VOMD44Kj_N"
      },
      "outputs": [],
      "source": [
        "!pip install atlassian-python-api\n",
        "\n",
        "from atlassian import Confluence\n",
        "import os\n",
        "\n",
        "# Set up Confluence API connection\n",
        "confluence = Confluence(\n",
        "url='https://advendio.atlassian.net',\n",
        ")\n",
        "confluence\n",
        "space_key = \"SO\"\n",
        "pages = confluence.get_all_pages_from_space(space_key)\n",
        "pages\n",
        "# Create a directory to store the downloaded pages\n",
        "if not os.path.exists('advendio_pages'):\n",
        "    os.makedirs('advendio_pages')\n",
        "# Download each page\n",
        "for page in pages:\n",
        "    page_id = page['id']\n",
        "    page_title = page['title']\n",
        "    page_filename = page_title.replace(' ', '_') + '.html'\n",
        "    page_content = confluence.get_page_by_id(page_id, expand='body.storage')['body']['storage']['value']\n",
        "    try:\n",
        "        with open('advendio_pages/' + page_filename, 'w') as f:\n",
        "            f.write(page_content)\n",
        "    except:\n",
        "        pass\n",
        "    print('Downloaded:', page_filename)\n"
      ]
    },
    {
      "cell_type": "code",
      "execution_count": null,
      "metadata": {
        "id": "5g75E33zLj1c"
      },
      "outputs": [],
      "source": []
    },
    {
      "cell_type": "code",
      "execution_count": null,
      "metadata": {
        "id": "pjDvX6j2K1h2"
      },
      "outputs": [],
      "source": [
        "!pip install transformers\n",
        "!pip install datasets\n",
        "\n",
        "from datasets import load_dataset\n",
        "datasets = load_dataset(\"text\", data_files = {\"train\" : \"./advendio_pages/*.html\"})\n",
        "datasets"
      ]
    },
    {
      "cell_type": "code",
      "execution_count": null,
      "metadata": {
        "id": "d09U-a-jNuPD"
      },
      "outputs": [],
      "source": [
        "datasets = datasets['train']\n",
        "datasets = datasets.train_test_split(test_size=0.2)\n",
        "datasets['validation'] = datasets['test']\n",
        "from transformers import AutoTokenizer\n"
      ]
    },
    {
      "cell_type": "code",
      "execution_count": null,
      "metadata": {
        "id": "uG5PZk8ELt9w"
      },
      "outputs": [],
      "source": [
        "model_checkpoint = \"gpt2\"\n",
        "tokenizer = AutoTokenizer.from_pretrained(model_checkpoint)\n",
        "\n",
        "def tokenize_function(examples):\n",
        "    return tokenizer(examples[\"text\"])\n",
        "    \n",
        "tokenized_datasets = datasets.map(tokenize_function, batched=True, num_proc=4, remove_columns=[\"text\"])\n"
      ]
    },
    {
      "cell_type": "code",
      "execution_count": null,
      "metadata": {
        "id": "S-Gx1539L3Gl"
      },
      "outputs": [],
      "source": [
        "block_size = 128\n",
        "\n",
        "def group_texts(examples):\n",
        "    # Concatenate all texts.\n",
        "    concatenated_examples = {k: sum(examples[k], []) for k in examples.keys()}\n",
        "    total_length = len(concatenated_examples[list(examples.keys())[0]])\n",
        "    # We drop the small remainder, we could add padding if the model supported it instead of this drop, you can\n",
        "        # customize this part to your needs.\n",
        "    total_length = (total_length // block_size) * block_size\n",
        "    # Split by chunks of max_len.\n",
        "    result = {\n",
        "        k: [t[i : i + block_size] for i in range(0, total_length, block_size)]\n",
        "        for k, t in concatenated_examples.items()\n",
        "    }\n",
        "    result[\"labels\"] = result[\"input_ids\"].copy()\n",
        "    return result\n",
        "\n",
        "\n",
        "lm_datasets = tokenized_datasets.map(\n",
        "    group_texts,\n",
        "    batched=True,\n",
        "    batch_size=1000,\n",
        "    num_proc=4,\n",
        ")\n"
      ]
    },
    {
      "cell_type": "code",
      "execution_count": null,
      "metadata": {
        "id": "FQq1yasEMFZN"
      },
      "outputs": [],
      "source": [
        "from transformers import AutoModelForCausalLM\n",
        "model = AutoModelForCausalLM.from_pretrained(model_checkpoint)\n",
        "from transformers import Trainer, TrainingArguments\n",
        "model_name = model_checkpoint.split(\"/\")[-1]\n",
        "training_args = TrainingArguments(\n",
        "    f\"{model_name}-finetuned-confluence\",\n",
        "    evaluation_strategy = \"epoch\",\n",
        "    learning_rate=2e-5,\n",
        "    weight_decay=0.01,\n",
        "    push_to_hub=False,\n",
        ")\n",
        "trainer = Trainer(\n",
        "    model=model,\n",
        "    args=training_args,\n",
        "    train_dataset=lm_datasets[\"train\"],\n",
        "    eval_dataset=lm_datasets['validation'],\n",
        ")\n",
        "os.environ[\"WANDB_DISABLED\"] = \"true\"\n"
      ]
    },
    {
      "cell_type": "code",
      "execution_count": null,
      "metadata": {
        "id": "qHD0JA7KMKfD"
      },
      "outputs": [],
      "source": [
        "trainer.train()\n",
        "\n"
      ]
    },
    {
      "cell_type": "code",
      "execution_count": null,
      "metadata": {
        "id": "4h1RuweDMVGk"
      },
      "outputs": [],
      "source": []
    }
  ],
  "metadata": {
    "accelerator": "GPU",
    "colab": {
      "private_outputs": true,
      "provenance": []
    },
    "gpuClass": "standard",
    "kernelspec": {
      "display_name": "Python 3",
      "name": "python3"
    },
    "language_info": {
      "name": "python",
      "version": "3.11.2"
    }
  },
  "nbformat": 4,
  "nbformat_minor": 0
}
